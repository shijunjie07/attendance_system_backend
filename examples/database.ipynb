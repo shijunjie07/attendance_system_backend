{
 "cells": [
  {
   "cell_type": "markdown",
   "metadata": {},
   "source": [
    "## Examples on How To Query Data "
   ]
  },
  {
   "cell_type": "code",
   "execution_count": 1,
   "metadata": {},
   "outputs": [],
   "source": [
    "import sys\n",
    "import os\n",
    "\n",
    "# Get the absolute path to the project directory\n",
    "project_path = os.path.abspath(os.path.join(os.getcwd(), '..'))\n",
    "if project_path not in sys.path:\n",
    "    \n",
    "    sys.path.append(project_path)\n",
    "\n",
    "# Now you can import your package\n",
    "from backend_app.app import *\n",
    "\n",
    "from backend_app.sql_handler import SQLHandler\n",
    "sql_handler = SQLHandler()"
   ]
  },
  {
   "cell_type": "markdown",
   "metadata": {},
   "source": [
    "#### get_attendances()"
   ]
  },
  {
   "cell_type": "code",
   "execution_count": 2,
   "metadata": {},
   "outputs": [],
   "source": [
    "student_id = 'A000001'\n",
    "course_code = 'KKEE3153'\n",
    "class_id = 10\n",
    "attendances_by_student = sql_handler.get_attendances(by='student', student_id=student_id)\n",
    "attendances_by_course = sql_handler.get_attendances(by='course', course_code=course_code)\n",
    "attendances_by_course_student = sql_handler.get_attendances(\n",
    "    by='course_student', student_id=student_id, course_code=course_code)\n",
    "attendances_by_class = sql_handler.get_attendances(by='class', class_id=class_id)\n"
   ]
  },
  {
   "cell_type": "markdown",
   "metadata": {},
   "source": [
    "by student"
   ]
  },
  {
   "cell_type": "code",
   "execution_count": 3,
   "metadata": {},
   "outputs": [
    {
     "name": "stdout",
     "output_type": "stream",
     "text": [
      "Attendance of Student: A000001\n",
      "Attended: 5\n",
      "\n",
      "        Attendance ID: 1, Student ID: A000001,\n",
      "        Course Code: KKEE3153, Class ID: 1,\n",
      "        Record Time: 2024-06-15 15:00:00, Status: present\n",
      "\n",
      "        Attendance ID: 2, Student ID: A000001,\n",
      "        Course Code: KKEE3163, Class ID: 2,\n",
      "        Record Time: 2024-06-15 17:00:00, Status: present\n",
      "\n",
      "        Attendance ID: 3, Student ID: A000001,\n",
      "        Course Code: KKEC3113, Class ID: 3,\n",
      "        Record Time: 2024-06-16 11:00:00, Status: present\n",
      "\n",
      "        Attendance ID: 12, Student ID: A000001,\n",
      "        Course Code: KKEE3143, Class ID: 7,\n",
      "        Record Time: 2024-06-10 10:00:00, Status: present\n",
      "\n",
      "        Attendance ID: 18, Student ID: A000001,\n",
      "        Course Code: KKET3103, Class ID: 10,\n",
      "        Record Time: 2024-06-12 10:00:00, Status: present\n"
     ]
    }
   ],
   "source": [
    "print(\"Attendance of Student: {}\".format(student_id))\n",
    "print(\"Attended: {}\".format(len(attendances_by_student)))\n",
    "for attendance in attendances_by_student:\n",
    "    print(\n",
    "        f\"\"\"\n",
    "        Attendance ID: {attendance.id}, Student ID: {attendance.student_id},\n",
    "        Course Code: {attendance.course_code}, Class ID: {attendance.class_id},\n",
    "        Record Time: {attendance.record_time}, Status: {attendance.status}\"\"\"\n",
    "    )\n"
   ]
  },
  {
   "cell_type": "markdown",
   "metadata": {},
   "source": [
    "by course code"
   ]
  },
  {
   "cell_type": "code",
   "execution_count": 4,
   "metadata": {},
   "outputs": [
    {
     "name": "stdout",
     "output_type": "stream",
     "text": [
      "Attendance of Course: KKEE3153\n",
      "Attended: 1\n",
      "\n",
      "        Attendance ID: 1, Student ID: A000001,\n",
      "        Course Code: KKEE3153, Class ID: 1,\n",
      "        Record Time: 2024-06-15 15:00:00, Status: present\n"
     ]
    }
   ],
   "source": [
    "print(\"Attendance of Course: {}\".format(course_code))\n",
    "print(\"Attended: {}\".format(len(attendances_by_course)))\n",
    "for attendance in attendances_by_course:\n",
    "    print(\n",
    "        f\"\"\"\n",
    "        Attendance ID: {attendance.id}, Student ID: {attendance.student_id},\n",
    "        Course Code: {attendance.course_code}, Class ID: {attendance.class_id},\n",
    "        Record Time: {attendance.record_time}, Status: {attendance.status}\"\"\"\n",
    "    )"
   ]
  },
  {
   "cell_type": "markdown",
   "metadata": {},
   "source": [
    "by student and course code"
   ]
  },
  {
   "cell_type": "code",
   "execution_count": 5,
   "metadata": {},
   "outputs": [
    {
     "name": "stdout",
     "output_type": "stream",
     "text": [
      "Attendance of Student: A000001, Course: KKEE3153\n",
      "\n",
      "        Attendance ID: 1, Student ID: A000001,\n",
      "        Course Code: KKEE3153, Class ID: 1,\n",
      "        Record Time: 2024-06-15 15:00:00, Status: present\n"
     ]
    }
   ],
   "source": [
    "print(\"Attendance of Student: {}, Course: {}\".format(student_id, course_code))\n",
    "for attendance in attendances_by_course_student:\n",
    "    print(\n",
    "        f\"\"\"\n",
    "        Attendance ID: {attendance.id}, Student ID: {attendance.student_id},\n",
    "        Course Code: {attendance.course_code}, Class ID: {attendance.class_id},\n",
    "        Record Time: {attendance.record_time}, Status: {attendance.status}\"\"\"\n",
    "    )"
   ]
  },
  {
   "cell_type": "markdown",
   "metadata": {},
   "source": [
    "by class id"
   ]
  },
  {
   "cell_type": "code",
   "execution_count": 6,
   "metadata": {},
   "outputs": [
    {
     "name": "stdout",
     "output_type": "stream",
     "text": [
      "Attendance of Class: 10\n",
      "\n",
      "        Attendance ID: 18, Student ID: A000001,\n",
      "        Course Code: KKET3103, Class ID: 10,\n",
      "        Record Time: 2024-06-12 10:00:00, Status: present\n",
      "\n",
      "        Attendance ID: 19, Student ID: A000005,\n",
      "        Course Code: KKET3103, Class ID: 10,\n",
      "        Record Time: 2024-06-12 10:00:00, Status: present\n"
     ]
    }
   ],
   "source": [
    "print(\"Attendance of Class: {}\".format(class_id))\n",
    "for attendance in attendances_by_class:\n",
    "    print(\n",
    "        f\"\"\"\n",
    "        Attendance ID: {attendance.id}, Student ID: {attendance.student_id},\n",
    "        Course Code: {attendance.course_code}, Class ID: {attendance.class_id},\n",
    "        Record Time: {attendance.record_time}, Status: {attendance.status}\"\"\"\n",
    "    )"
   ]
  },
  {
   "cell_type": "markdown",
   "metadata": {},
   "source": [
    "#### get_lecturer()"
   ]
  },
  {
   "cell_type": "code",
   "execution_count": 7,
   "metadata": {},
   "outputs": [],
   "source": [
    "lecturer_id = 'L000001'\n",
    "lecturer = sql_handler.get_lecturer(lecturer_id)\n",
    "courses = sql_handler.get_courses('lecturer', lecturer_id=lecturer_id)"
   ]
  },
  {
   "cell_type": "code",
   "execution_count": 8,
   "metadata": {},
   "outputs": [
    {
     "name": "stdout",
     "output_type": "stream",
     "text": [
      "\n",
      "    Lecturer ID: L000001,\n",
      "    First Name: John,\n",
      "    Last Name: Doe,\n",
      "    Phone Number: None,\n",
      "    Email: john.doe@example.com,\n",
      "    Embedding Type: <class 'bytes'>,\n",
      "    Courses: ['KKEE3153', 'KKEE3163', 'KKEC3113', 'KKEE3133', 'KKKQ3123', 'KKEE3123', 'KKEE3143', 'KKEC3103', 'KKKF3103', 'KKET3103', 'KKKL3183', 'KKKF3283', 'KKEE3113', 'KKEE4103', 'KKET4113']\n"
     ]
    }
   ],
   "source": [
    "print(\n",
    "    f\"\"\"\n",
    "    Lecturer ID: {lecturer.lecturer_id},\n",
    "    First Name: {lecturer.first_name},\n",
    "    Last Name: {lecturer.last_name},\n",
    "    Phone Number: {lecturer.phone_number},\n",
    "    Email: {lecturer.email},\n",
    "    Embedding Type: {type(lecturer.embedding)},\n",
    "    Courses: {[course.code for course in courses]}\"\"\"\n",
    ")"
   ]
  },
  {
   "cell_type": "markdown",
   "metadata": {},
   "source": [
    "#### get_lecturers_by_course()"
   ]
  },
  {
   "cell_type": "code",
   "execution_count": 9,
   "metadata": {},
   "outputs": [],
   "source": [
    "course_code = 'KKEE3153'\n",
    "lecturers_by_course = sql_handler.get_lecturers_by_course(course_code)"
   ]
  },
  {
   "cell_type": "code",
   "execution_count": 10,
   "metadata": {},
   "outputs": [
    {
     "name": "stdout",
     "output_type": "stream",
     "text": [
      "Lecturers on Course: KKEE3153\n",
      "\n",
      "        Lecturer ID: L000001,\n",
      "        First Name: John,\n",
      "        Last Name: Doe,\n",
      "        Phone Number: None,\n",
      "        Email: john.doe@example.com,\n",
      "        Embedding Type: <class 'bytes'>,\n",
      "        \n"
     ]
    }
   ],
   "source": [
    "print(\"Lecturers on Course: {}\".format(course_code))\n",
    "for lecturer in lecturers_by_course:\n",
    "    print(\n",
    "        f\"\"\"\n",
    "        Lecturer ID: {lecturer.lecturer_id},\n",
    "        First Name: {lecturer.first_name},\n",
    "        Last Name: {lecturer.last_name},\n",
    "        Phone Number: {lecturer.phone_number},\n",
    "        Email: {lecturer.email},\n",
    "        Embedding Type: {type(lecturer.embedding)},\n",
    "        \"\"\"\n",
    "    )"
   ]
  },
  {
   "cell_type": "markdown",
   "metadata": {},
   "source": [
    "#### get_student()"
   ]
  },
  {
   "cell_type": "code",
   "execution_count": 11,
   "metadata": {},
   "outputs": [],
   "source": [
    "student_id = 'A000001'\n",
    "student = sql_handler.get_student(student_id)\n",
    "courses = sql_handler.get_courses('student', student_id=student_id)"
   ]
  },
  {
   "cell_type": "code",
   "execution_count": 12,
   "metadata": {},
   "outputs": [
    {
     "name": "stdout",
     "output_type": "stream",
     "text": [
      "\n",
      "    Student ID: A000001,\n",
      "    First Name: Michael,\n",
      "    Last Name: Clark,\n",
      "    Phone Number: None,\n",
      "    Email: michael.clark@example.com,\n",
      "    Embedding Type: <class 'bytes'>,\n",
      "    Courses: ['KKEE3153', 'KKEE3163', 'KKEC3113', 'KKET3103', 'KKEE3143']\n"
     ]
    }
   ],
   "source": [
    "print(\n",
    "    f\"\"\"\n",
    "    Student ID: {student.student_id},\n",
    "    First Name: {student.first_name},\n",
    "    Last Name: {student.last_name},\n",
    "    Phone Number: {student.phone_number},\n",
    "    Email: {student.email},\n",
    "    Embedding Type: {type(student.embedding)},\n",
    "    Courses: {[course.code for course in courses]}\"\"\"\n",
    ")"
   ]
  },
  {
   "cell_type": "markdown",
   "metadata": {},
   "source": [
    "#### get_classes()"
   ]
  },
  {
   "cell_type": "code",
   "execution_count": 13,
   "metadata": {},
   "outputs": [],
   "source": [
    "class_date = '2024-06-15'\n",
    "student_id = 'A000001'\n",
    "lecturer_id = 'L000001'\n",
    "location = 'FKAB DK1'\n",
    "classes_by_date = sql_handler.get_classes(by='date', date=class_date)\n",
    "classes_by_student = sql_handler.get_classes(by='student', student_id=student_id)\n",
    "classes_by_lecturer = sql_handler.get_classes(by='lecturer', lecturer_id=lecturer_id)\n",
    "classes_by_location = sql_handler.get_classes(by='location', location=location)"
   ]
  },
  {
   "cell_type": "markdown",
   "metadata": {},
   "source": [
    "by date"
   ]
  },
  {
   "cell_type": "code",
   "execution_count": 14,
   "metadata": {},
   "outputs": [
    {
     "name": "stdout",
     "output_type": "stream",
     "text": [
      "classes on 2024-06-15\n",
      "number of classes: 5\n",
      "\n",
      "        Class ID: 1,\n",
      "        Course Code: KKEE3153,\n",
      "        Start Time: 2024-06-15 15:00:00,\n",
      "        End Time: 2024-06-15 16:00:00,\n",
      "        Location: FKAB DK1,\n",
      "        Lecturer ID: L000001\n",
      "        \n",
      "\n",
      "        Class ID: 2,\n",
      "        Course Code: KKEE3163,\n",
      "        Start Time: 2024-06-15 17:00:00,\n",
      "        End Time: 2024-06-15 20:00:00,\n",
      "        Location: FKAB DK1,\n",
      "        Lecturer ID: L000001\n",
      "        \n",
      "\n",
      "        Class ID: 4,\n",
      "        Course Code: KKEE3133,\n",
      "        Start Time: 2024-06-15 09:00:00,\n",
      "        End Time: 2024-06-15 10:00:00,\n",
      "        Location: FKAB DK6,\n",
      "        Lecturer ID: L000001\n",
      "        \n",
      "\n",
      "        Class ID: 5,\n",
      "        Course Code: KKKQ3123,\n",
      "        Start Time: 2024-06-15 10:00:00,\n",
      "        End Time: 2024-06-15 12:00:00,\n",
      "        Location: FKAB DK6,\n",
      "        Lecturer ID: L000001\n",
      "        \n",
      "\n",
      "        Class ID: 8,\n",
      "        Course Code: KKEC3103,\n",
      "        Start Time: 2024-06-15 13:00:00,\n",
      "        End Time: 2024-06-15 14:00:00,\n",
      "        Location: FKAB DK2,\n",
      "        Lecturer ID: L000001\n",
      "        \n"
     ]
    }
   ],
   "source": [
    "print('classes on {}'.format(class_date))\n",
    "print(\"number of classes: {}\".format(len(classes_by_date)))\n",
    "for class_ in classes_by_date:\n",
    "    print(\n",
    "        f\"\"\"\n",
    "        Class ID: {class_.class_id},\n",
    "        Course Code: {class_.course_code},\n",
    "        Start Time: {class_.start_time},\n",
    "        End Time: {class_.end_time},\n",
    "        Location: {class_.location},\n",
    "        Lecturer ID: {class_.lecturer_id}\n",
    "        \"\"\"\n",
    "    )"
   ]
  },
  {
   "cell_type": "markdown",
   "metadata": {},
   "source": [
    "by student"
   ]
  },
  {
   "cell_type": "code",
   "execution_count": 15,
   "metadata": {},
   "outputs": [
    {
     "name": "stdout",
     "output_type": "stream",
     "text": [
      "classes of A000001\n",
      "number of classes: 5\n",
      "\n",
      "        Class ID: 1,\n",
      "        Course Code: KKEE3153,\n",
      "        Start Time: 2024-06-15 15:00:00,\n",
      "        End Time: 2024-06-15 16:00:00,\n",
      "        Location: FKAB DK1,\n",
      "        Lecturer ID: L000001\n",
      "        \n",
      "\n",
      "        Class ID: 2,\n",
      "        Course Code: KKEE3163,\n",
      "        Start Time: 2024-06-15 17:00:00,\n",
      "        End Time: 2024-06-15 20:00:00,\n",
      "        Location: FKAB DK1,\n",
      "        Lecturer ID: L000001\n",
      "        \n",
      "\n",
      "        Class ID: 3,\n",
      "        Course Code: KKEC3113,\n",
      "        Start Time: 2024-06-16 11:00:00,\n",
      "        End Time: 2024-06-16 13:00:00,\n",
      "        Location: FKAB DK1,\n",
      "        Lecturer ID: L000001\n",
      "        \n",
      "\n",
      "        Class ID: 7,\n",
      "        Course Code: KKEE3143,\n",
      "        Start Time: 2024-06-10 10:00:00,\n",
      "        End Time: 2024-06-10 13:00:00,\n",
      "        Location: FKAB DK2,\n",
      "        Lecturer ID: L000001\n",
      "        \n",
      "\n",
      "        Class ID: 10,\n",
      "        Course Code: KKET3103,\n",
      "        Start Time: 2024-06-12 10:00:00,\n",
      "        End Time: 2024-06-12 13:00:00,\n",
      "        Location: FKAB BS5,\n",
      "        Lecturer ID: L000001\n",
      "        \n"
     ]
    }
   ],
   "source": [
    "print(\"classes of {}\".format(student_id))\n",
    "print(\"number of classes: {}\".format(len(classes_by_student)))\n",
    "for class_ in classes_by_student:\n",
    "    print(\n",
    "        f\"\"\"\n",
    "        Class ID: {class_.class_id},\n",
    "        Course Code: {class_.course_code},\n",
    "        Start Time: {class_.start_time},\n",
    "        End Time: {class_.end_time},\n",
    "        Location: {class_.location},\n",
    "        Lecturer ID: {class_.lecturer_id}\n",
    "        \"\"\"\n",
    "    )"
   ]
  },
  {
   "cell_type": "markdown",
   "metadata": {},
   "source": [
    "by location"
   ]
  },
  {
   "cell_type": "code",
   "execution_count": 16,
   "metadata": {},
   "outputs": [
    {
     "name": "stdout",
     "output_type": "stream",
     "text": [
      "classes at FKAB DK1\n",
      "number of classes: 5\n",
      "\n",
      "        Class ID: 1,\n",
      "        Course Code: KKEE3153,\n",
      "        Start Time: 2024-06-15 15:00:00,\n",
      "        End Time: 2024-06-15 16:00:00,\n",
      "        Location: FKAB DK1,\n",
      "        Lecturer ID: L000001\n",
      "        \n",
      "\n",
      "        Class ID: 2,\n",
      "        Course Code: KKEE3163,\n",
      "        Start Time: 2024-06-15 17:00:00,\n",
      "        End Time: 2024-06-15 20:00:00,\n",
      "        Location: FKAB DK1,\n",
      "        Lecturer ID: L000001\n",
      "        \n",
      "\n",
      "        Class ID: 3,\n",
      "        Course Code: KKEC3113,\n",
      "        Start Time: 2024-06-16 11:00:00,\n",
      "        End Time: 2024-06-16 13:00:00,\n",
      "        Location: FKAB DK1,\n",
      "        Lecturer ID: L000001\n",
      "        \n"
     ]
    }
   ],
   "source": [
    "print(\"classes at {}\".format(location))\n",
    "print(\"number of classes: {}\".format(len(classes_by_student)))\n",
    "for class_ in classes_by_location:\n",
    "    print(\n",
    "        f\"\"\"\n",
    "        Class ID: {class_.class_id},\n",
    "        Course Code: {class_.course_code},\n",
    "        Start Time: {class_.start_time},\n",
    "        End Time: {class_.end_time},\n",
    "        Location: {class_.location},\n",
    "        Lecturer ID: {class_.lecturer_id}\n",
    "        \"\"\"\n",
    "    )"
   ]
  },
  {
   "cell_type": "markdown",
   "metadata": {},
   "source": [
    "#### get_courses()"
   ]
  },
  {
   "cell_type": "code",
   "execution_count": 17,
   "metadata": {},
   "outputs": [],
   "source": [
    "student_id = 'A000001'\n",
    "lecturer_id = 'L000001'\n",
    "date = '2024-06-15'\n",
    "courses_by_student = sql_handler.get_courses(by='student', student_id=student_id)\n",
    "courses_by_lecturer = sql_handler.get_courses(by='lecturer', lecturer_id=lecturer_id)\n",
    "courses_by_date = sql_handler.get_courses(by='date', date=date)"
   ]
  },
  {
   "cell_type": "code",
   "execution_count": 18,
   "metadata": {},
   "outputs": [
    {
     "name": "stdout",
     "output_type": "stream",
     "text": [
      "Courses Registered by Student: A000001\n",
      "Courses: ['KKEE3153', 'KKEE3163', 'KKEC3113', 'KKET3103', 'KKEE3143']\n",
      "\n",
      "Courses Taught by Lecturer: L000001\n",
      "Courses: ['KKEE3153', 'KKEE3163', 'KKEC3113', 'KKEE3133', 'KKKQ3123', 'KKEE3123', 'KKEE3143', 'KKEC3103', 'KKKF3103', 'KKET3103', 'KKKL3183', 'KKKF3283', 'KKEE3113', 'KKEE4103', 'KKET4113']\n",
      "\n",
      "Courses on 2024-06-15\n",
      "Courses: ['KKEE3153', 'KKEE3163', 'KKEC3113', 'KKEE3133', 'KKKQ3123', 'KKEE3123', 'KKEE3143', 'KKEC3103', 'KKKF3103', 'KKET3103', 'KKKL3183', 'KKKF3283', 'KKEE3113', 'KKEE4103', 'KKET4113']\n"
     ]
    }
   ],
   "source": [
    "print('Courses Registered by Student: {}'.format(student_id))\n",
    "print(f\"Courses: {[course.code for course in courses_by_student]}\\n\")\n",
    "\n",
    "print('Courses Taught by Lecturer: {}'.format(lecturer_id))\n",
    "print(f\"Courses: {[course.code for course in courses_by_lecturer]}\\n\")\n",
    "\n",
    "print('Courses on {}'.format(date))\n",
    "print(f\"Courses: {[course.code for course in courses_by_lecturer]}\")"
   ]
  },
  {
   "cell_type": "markdown",
   "metadata": {},
   "source": [
    "#### get_device()"
   ]
  },
  {
   "cell_type": "code",
   "execution_count": 19,
   "metadata": {},
   "outputs": [],
   "source": [
    "location = 'demo_1'\n",
    "ip = '0.0.0.1'\n",
    "devices = sql_handler.get_device(all=True)\n",
    "device_by_location = sql_handler.get_device(by='location', location=location)\n",
    "device_by_ip = sql_handler.get_device(by='ip', ip=ip)"
   ]
  },
  {
   "cell_type": "code",
   "execution_count": 20,
   "metadata": {},
   "outputs": [
    {
     "name": "stdout",
     "output_type": "stream",
     "text": [
      "Search Attendance Device by location: demo_1\n",
      "Device IP: 0.0.0.1, Port: 80, Location: demo_1\n",
      "\n",
      "Search Attendance Device by IP: 0.0.0.1\n",
      "Device IP: 0.0.0.1, Port: 80, Location: demo_1\n"
     ]
    }
   ],
   "source": [
    "print(\"Search Attendance Device by location: {}\".format(location))\n",
    "for device in device_by_location:\n",
    "    print(\"Device IP: {}, Port: {}, Location: {}\\n\".format(device.ip, device.port, device.location))\n",
    "\n",
    "print(\"Search Attendance Device by IP: {}\".format(ip))\n",
    "for device in device_by_ip:\n",
    "    print(\"Device IP: {}, Port: {}, Location: {}\".format(device.ip, device.port, device.location))"
   ]
  },
  {
   "cell_type": "code",
   "execution_count": 23,
   "metadata": {},
   "outputs": [
    {
     "name": "stdout",
     "output_type": "stream",
     "text": [
      "Number of Attendance Devices: 8\n",
      "\n",
      "1: Device IP: 0.0.0.1, Port: 80, Location: demo_1\n",
      "2: Device IP: 0.0.0.2, Port: 80, Location: demo_2\n",
      "3: Device IP: 0.0.0.0, Port: 80, Location: FKAB DK1\n",
      "4: Device IP: 0.0.0.3, Port: 80, Location: FKAB DK6\n",
      "5: Device IP: 0.0.0.4, Port: 80, Location: FKAB DK2\n",
      "6: Device IP: 0.0.0.5, Port: 80, Location: FKAB BS5\n",
      "7: Device IP: 0.0.0.6, Port: 80, Location: FKAB BS1\n",
      "8: Device IP: 0.0.0.7, Port: 80, Location: FKAB ASTMK1\n"
     ]
    }
   ],
   "source": [
    "print(\"Number of Attendance Devices: {}\\n\".format(len(devices)))\n",
    "for i, device in enumerate(devices):\n",
    "    print(\"{}: Device IP: {}, Port: {}, Location: {}\".format(i+1, device.ip, device.port, device.location))"
   ]
  }
 ],
 "metadata": {
  "kernelspec": {
   "display_name": "attendance",
   "language": "python",
   "name": "python3"
  },
  "language_info": {
   "codemirror_mode": {
    "name": "ipython",
    "version": 3
   },
   "file_extension": ".py",
   "mimetype": "text/x-python",
   "name": "python",
   "nbconvert_exporter": "python",
   "pygments_lexer": "ipython3",
   "version": "3.12.3"
  }
 },
 "nbformat": 4,
 "nbformat_minor": 2
}
